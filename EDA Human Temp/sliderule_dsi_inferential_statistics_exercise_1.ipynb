{
 "cells": [
  {
   "cell_type": "markdown",
   "metadata": {},
   "source": [
    "# What is the True Normal Human Body Temperature? \n",
    "\n",
    "#### Background\n",
    "\n",
    "The mean normal body temperature was held to be 37$^{\\circ}$C or 98.6$^{\\circ}$F for more than 120 years since it was first conceptualized and reported by Carl Wunderlich in a famous 1868 book. But, is this value statistically correct?"
   ]
  },
  {
   "cell_type": "markdown",
   "metadata": {},
   "source": [
    "<h3>Exercises</h3>\n",
    "\n",
    "<p>In this exercise, you will analyze a dataset of human body temperatures and employ the concepts of hypothesis testing, confidence intervals, and statistical significance.</p>\n",
    "\n",
    "<p>Answer the following questions <b>in this notebook below and submit to your Github account</b>.</p> \n",
    "\n",
    "<ol>\n",
    "<li>  Is the distribution of body temperatures normal? \n",
    "    <ul>\n",
    "    <li> Although this is not a requirement for the Central Limit Theorem to hold (read the introduction on Wikipedia's page about the CLT carefully: https://en.wikipedia.org/wiki/Central_limit_theorem), it gives us some peace of mind that the population may also be normally distributed if we assume that this sample is representative of the population.\n",
    "    <li> Think about the way you're going to check for the normality of the distribution. Graphical methods are usually used first, but there are also other ways: https://en.wikipedia.org/wiki/Normality_test\n",
    "    </ul>\n",
    "<li>  Is the sample size large? Are the observations independent?\n",
    "    <ul>\n",
    "    <li> Remember that this is a condition for the Central Limit Theorem, and hence the statistical tests we are using, to apply.\n",
    "    </ul>\n",
    "<li>  Is the true population mean really 98.6 degrees F?\n",
    "    <ul>\n",
    "    <li> First, try a bootstrap hypothesis test.\n",
    "    <li> Now, let's try frequentist statistical testing. Would you use a one-sample or two-sample test? Why?\n",
    "    <li> In this situation, is it appropriate to use the $t$ or $z$ statistic? \n",
    "    <li> Now try using the other test. How is the result be different? Why?\n",
    "    </ul>\n",
    "<li>  Draw a small sample of size 10 from the data and repeat both frequentist tests. \n",
    "    <ul>\n",
    "    <li> Which one is the correct one to use? \n",
    "    <li> What do you notice? What does this tell you about the difference in application of the $t$ and $z$ statistic?\n",
    "    </ul>\n",
    "<li>  At what temperature should we consider someone's temperature to be \"abnormal\"?\n",
    "    <ul>\n",
    "    <li> As in the previous example, try calculating everything using the boostrap approach, as well as the frequentist approach.\n",
    "    <li> Start by computing the margin of error and confidence interval. When calculating the confidence interval, keep in mind that you should use the appropriate formula for one draw, and not N draws.\n",
    "    </ul>\n",
    "<li>  Is there a significant difference between males and females in normal temperature?\n",
    "    <ul>\n",
    "    <li> What testing approach did you use and why?\n",
    "    <li> Write a story with your conclusion in the context of the original problem.\n",
    "    </ul>\n",
    "</ol>\n",
    "\n",
    "You can include written notes in notebook cells using Markdown: \n",
    "   - In the control panel at the top, choose Cell > Cell Type > Markdown\n",
    "   - Markdown syntax: http://nestacms.com/docs/creating-content/markdown-cheat-sheet\n",
    "\n",
    "#### Resources\n",
    "\n",
    "+ Information and data sources: http://www.amstat.org/publications/jse/datasets/normtemp.txt, http://www.amstat.org/publications/jse/jse_data_archive.htm\n",
    "+ Markdown syntax: http://nestacms.com/docs/creating-content/markdown-cheat-sheet\n",
    "\n",
    "****"
   ]
  },
  {
   "cell_type": "code",
   "execution_count": 3,
   "metadata": {},
   "outputs": [],
   "source": [
    "# Your work here.\n",
    "\n",
    "import pandas as pd\n",
    "import numpy as np\n",
    "import scipy.stats as stats\n",
    "import matplotlib.pyplot as plt\n",
    "%matplotlib inline\n",
    "\n",
    "def ecdf(data):\n",
    "    #Compute ECDF for a one-dimensional array of measurements.\n",
    "    # Number of data points: n\n",
    "    n = len(data)\n",
    "    # x-data for the ECDF: x\n",
    "    x = np.sort(data)\n",
    "    # y-data for the ECDF: y\n",
    "    y = np.arange(1, n+1) / n\n",
    "    return x, y\n",
    "\n",
    "df = pd.read_csv('data/human_body_temperature.csv')\n",
    "\n"
   ]
  },
  {
   "cell_type": "code",
   "execution_count": 6,
   "metadata": {},
   "outputs": [
    {
     "data": {
      "image/png": "[encoded data removed]",
      "text/plain": [
       "<Figure size 432x288 with 1 Axes>"
      ]
     },
     "metadata": {},
     "output_type": "display_data"
    }
   ],
   "source": [
    "# Calculate the theoritical CDF and ECDF of the temperature data \n",
    "# Plot ECDF over the theoritical CDF \n",
    "x_data, y_data = ecdf(df.temperature)\n",
    "samples = np.random.normal(temp_mean,temp_std,size=1000)\n",
    "#print(samples)\n",
    "x_theo, y_theo = ecdf(samples)\n",
    "plt.plot(x_theo, y_theo)\n",
    "plt.plot(x_data, y_data, marker='.', linestyle='none')\n",
    "plt.xlabel('Body Temperature(Fahrenheit)')\n",
    "plt.ylabel('CDF')\n",
    "plt.show()"
   ]
  },
  {
   "cell_type": "code",
   "execution_count": 5,
   "metadata": {},
   "outputs": [
    {
     "data": {
      "text/plain": [
       "[<matplotlib.lines.Line2D at 0x15e858b0dd8>]"
      ]
     },
     "execution_count": 5,
     "metadata": {},
     "output_type": "execute_result"
    },
    {
     "data": {
      "image/png": "[encoded data removed]",
      "text/plain": [
       "<Figure size 432x288 with 1 Axes>"
      ]
     },
     "metadata": {},
     "output_type": "display_data"
    }
   ],
   "source": [
    "# Draw a histogram of body temperature and a normal distribution\n",
    "\n",
    "plt.hist(df.temperature, width=0.3, density=True)\n",
    "#plt.hist(df.temperature, width=0.3, normed=True)\n",
    "#normed parameter deprecated and replaced by density parameter\n",
    "plt.xlabel('Body Temperature (Fahrenheit)')\n",
    "plt.ylabel('PDF')\n",
    "plt.title('Histogram')\n",
    "samples1 = np.linspace(96, 101, 1000)\n",
    "temp_mean = df.temperature.mean()\n",
    "temp_std = df.temperature.std()\n",
    "pdf = stats.norm.pdf(samples1, temp_mean, temp_std)\n",
    "plt.plot(samples1, pdf)"
   ]
  },
  {
   "cell_type": "markdown",
   "metadata": {},
   "source": [
    "### 1. Is the distribution of body temperatures normal?\n",
    "   The histogram of the data with the probability density function shows the data is mostly normal\n",
    "   Another method to check the normality is overlaying CDF of the normal curve with Empirical CDF of the temperature data. We can see that the datapoints are on the curve and does not diverge much from the normal curve. \n",
    "   Above methods show that the data is normal.\n",
    "\n",
    "### 2. Is the sample size large? Are the observations independent? \n",
    "   Sample size is 130 which is more than 30, so the sample size is large.\n",
    "   There are equal number of males and females in the sample.  \n",
    "   There is no information available on how the data was collected. Assuming the data collection was supposed to have equal number of males and females, the observations are independent.\n"
   ]
  },
  {
   "cell_type": "markdown",
   "metadata": {},
   "source": [
    "### 3. Is the true population mean really 98.6 degrees F?\n",
    "\n",
    "####   Bootstrap hypothesis test\n",
    "\n",
    "Null Hypothesis:  The true population mean is 98.6\n"
   ]
  },
  {
   "cell_type": "code",
   "execution_count": 7,
   "metadata": {},
   "outputs": [
    {
     "name": "stdout",
     "output_type": "stream",
     "text": [
      "p_value :-  0.0\n"
     ]
    }
   ],
   "source": [
    "\n",
    "# Shift the given data set to match the population mean of 98.6\n",
    "shifted_temperature_data = df.temperature - np.mean(df.temperature) + 98.6\n",
    "\n",
    "# Create the bootstrap replicates of the shifted data\n",
    "size = 100000\n",
    "bs_replicates = np.empty(size)\n",
    "for i in range(size):\n",
    "    bs = np.random.choice(shifted_temperature_data,len(shifted_temperature_data))\n",
    "    bs_replicates[i] = np.mean(bs)\n",
    "\n",
    "#Compute fraction of replicates that are less than the observed temperature mean: p\n",
    "p_value = np.sum(bs_replicates <= np.mean(df.temperature)) / 100000\n",
    "print('p_value :- ', p_value)"
   ]
  },
  {
   "cell_type": "markdown",
   "metadata": {},
   "source": [
    "The p_value of 0 implies that even one replicate wasn't as extreme as given population mean.\n",
    "It suggests that the null hypothesis,the population mean is equal to 98.6 is not true\n",
    "\n",
    "\n",
    "####  Frequentist statistical testing\n",
    "\n",
    " We should use one-sample test  since we are comparing one set of data to a value, population mean.\n",
    " \n",
    " Null Hypothesis      : The population mean = 98.6\n",
    " Alternate Hypothesis : The population mean != 98.6\n",
    " \n",
    " Setting significance level = 0.05\n",
    " \n",
    " We should use two-tailed test as we are not testing in one direction\n",
    " \n",
    " We calculate z-statistic for the test as the sample is normally distributed and sample size is more than 30"
   ]
  },
  {
   "cell_type": "code",
   "execution_count": 8,
   "metadata": {},
   "outputs": [
    {
     "name": "stdout",
     "output_type": "stream",
     "text": [
      "z-statistic :-  -5.4548232923645195\n",
      "p_value :-  4.9021570141012155e-08\n"
     ]
    }
   ],
   "source": [
    "# Calculate z-statistic\n",
    "\n",
    "from statsmodels.stats.weightstats import ztest\n",
    "\n",
    "z_stat, p_value_z = ztest(x1= df.temperature, value = 98.6)\n",
    "print('z-statistic :- ', z_stat)\n",
    "print('p_value :- ', p_value_z)"
   ]
  },
  {
   "cell_type": "markdown",
   "metadata": {},
   "source": [
    "p_value, 0.000000049 is less than the significance level which says that the null hypothesis is rejected.\n",
    "\n",
    "The population mean = 98.6 cannot be accepted.\n",
    "\n",
    "\n",
    "\n"
   ]
  },
  {
   "cell_type": "code",
   "execution_count": 9,
   "metadata": {},
   "outputs": [
    {
     "name": "stdout",
     "output_type": "stream",
     "text": [
      "t-statistic :-  -5.4548232923645195\n",
      "p_value :-  2.4106320415561276e-07\n"
     ]
    }
   ],
   "source": [
    "# Calculate t-statistic\n",
    "\n",
    "from scipy.stats import ttest_1samp\n",
    "\n",
    "t_stat, p_value_t = ttest_1samp(df.temperature, 98.6)\n",
    "print('t-statistic :- ', t_stat)\n",
    "print('p_value :- ', p_value_t)"
   ]
  },
  {
   "cell_type": "markdown",
   "metadata": {},
   "source": [
    "t-statistic is similar to z-statistics because t distribution approaches z distribution as the sample size increases.\n"
   ]
  },
  {
   "cell_type": "markdown",
   "metadata": {},
   "source": [
    "#### 4. Draw a small sample of size 10 from the data and repeat both frequentist tests"
   ]
  },
  {
   "cell_type": "code",
   "execution_count": 71,
   "metadata": {},
   "outputs": [
    {
     "name": "stdout",
     "output_type": "stream",
     "text": [
      "[96.7 97.  96.7 98.8 98.8 98.2 98.  97.5 98.  98.3]\n",
      "z-statistic for sample size 10:-  -3.1957418477478403\n",
      "p_value :-  0.0013947183948314953 \n",
      "\n",
      "t-statistic for sample size 10 :-  -3.1957418477478403\n",
      "p_value :-  0.010905578505191494\n"
     ]
    }
   ],
   "source": [
    "# draw a small sample of size 10 without replacement\n",
    "np.random.seed(100)\n",
    "sample_10 = np.random.choice(df.temperature, size=10, replace=False)\n",
    "print(sample_10)\n",
    "\n",
    "z_stat1, p_value_z1 = ztest(x1= sample_10, value = 98.6)\n",
    "print('z-statistic for sample size 10:- ', z_stat1)\n",
    "print('p_value :- ', p_value_z1,'\\n')\n",
    "\n",
    "t_stat1, p_value_t1 = ttest_1samp(sample_10, 98.6)\n",
    "print('t-statistic for sample size 10 :- ', t_stat1)\n",
    "print('p_value :- ', p_value_t1)\n"
   ]
  },
  {
   "cell_type": "markdown",
   "metadata": {},
   "source": [
    "Since the sample size is below 30, we must use the t distribution table to calculate the p-value for the sample mean.\n",
    "The p-value of getting mean value as low or lower than the observed mean is 1.09*2= 2.18%"
   ]
  },
  {
   "cell_type": "markdown",
   "metadata": {},
   "source": [
    "#### 5. At what temperature should we consider someone's temperature to be \"abnormal\"?\n",
    "\n",
    "'Abnormal' temperature is the temperature which lies outside the confidence interval, assuming confidence level of 95%\n",
    "\n",
    "####  Bootstrap method\n",
    "\n",
    "We obtain the confidence interval at given confidence level of 95% by passing the 2.5% and 97.5% percentile of the means of the replicates."
   ]
  },
  {
   "cell_type": "code",
   "execution_count": 77,
   "metadata": {},
   "outputs": [
    {
     "name": "stdout",
     "output_type": "stream",
     "text": [
      "The confidence interval is equal to  [98.12384615 98.37461538]\n"
     ]
    }
   ],
   "source": [
    "size = 100000\n",
    "bs_replicates = np.empty(size)\n",
    "for i in range(size):\n",
    "    bs = np.random.choice(df.temperature,len(df.temperature))\n",
    "    bs_replicates[i] = np.mean(bs)\n",
    "    \n",
    "CI = np.percentile(bs_replicates,[2.5,97.5])\n",
    "print(\"The confidence interval is equal to \", CI)"
   ]
  },
  {
   "cell_type": "markdown",
   "metadata": {},
   "source": [
    "At the confidence level of 95%, we can say that the temperature which lies outside of 98.12 and 98.37 is considered abnormal\n",
    "\n",
    "\n",
    "####  Frequentist approach\n",
    "Caluculate the Standard error of the sampling distribution of the sample means\n",
    "Calculate the sample mean\n",
    "At confidence interval of 95%, Critical value(Z) = +/-1.96\n",
    "Confidence interval = sample mean +/- Margin of error\n",
    "Margin of error = critical_value*std error\n"
   ]
  },
  {
   "cell_type": "code",
   "execution_count": 80,
   "metadata": {},
   "outputs": [
    {
     "name": "stdout",
     "output_type": "stream",
     "text": [
      "\n",
      "\n",
      "95% confidence interval:  ( 98.12367980442819 ,  98.37478173403336 )\n",
      "Margin of error: 0.125550964802579\n"
     ]
    }
   ],
   "source": [
    "# calculate 95% confidence interval\n",
    "sem = np.std(df.temperature)/np.sqrt(len(df.temperature)) # sem is std error of the sampling distribution of sample mean\n",
    "sample_mean = np.mean(df.temperature)\n",
    "\n",
    "# 95% of values fall within 1.96 of the mean in a normal distribution\n",
    "critical_value = 1.96\n",
    "margin_of_error = critical_value * sem\n",
    "lower_limit = sample_mean - margin_of_error\n",
    "upper_limit = sample_mean + margin_of_error\n",
    "\n",
    "print('\\n')\n",
    "print(\"95% confidence interval:  (\", lower_limit, \", \", upper_limit, ')')\n",
    "print(\"Margin of error:\", margin_of_error)\n",
    "\n"
   ]
  },
  {
   "cell_type": "markdown",
   "metadata": {},
   "source": [
    "By frequentish approach, at confidence level 95%, we can say any temperature < 98.12 and > 98.37 is abnormal"
   ]
  },
  {
   "cell_type": "markdown",
   "metadata": {},
   "source": [
    "### 6.  Is there a significant difference between males and females in normal temperature?"
   ]
  },
  {
   "cell_type": "code",
   "execution_count": 11,
   "metadata": {},
   "outputs": [],
   "source": [
    "df_male = df[df.gender == 'M']\n",
    "df_female = df[df.gender == 'F']"
   ]
  },
  {
   "cell_type": "code",
   "execution_count": 12,
   "metadata": {},
   "outputs": [
    {
     "name": "stdout",
     "output_type": "stream",
     "text": [
      "\n",
      "\n",
      "At 95% confidence level, we can say normal temperature for the males lie between the confidence interval:  \n",
      "( 97.93605399456493 ,  98.27317677466587 )\n"
     ]
    }
   ],
   "source": [
    "# Calculate the normal temperature for males\n",
    "sem_male = np.std(df_male.temperature)/np.sqrt(len(df_male.temperature)) # sem is std error of the sampling distribution of sample mean\n",
    "sample_mean_male = np.mean(df_male.temperature)\n",
    "\n",
    "# Critical value is 1.96 at confidence interval 95%\n",
    "critical_value = 1.96\n",
    "margin_of_error_male = critical_value * sem_male\n",
    "lower_limit_male = sample_mean_male - margin_of_error_male\n",
    "upper_limit_male = sample_mean_male + margin_of_error_male\n",
    "\n",
    "print('\\n')\n",
    "print(\"At 95% confidence level, we can say normal temperature for the males lie between the confidence interval:  \\n(\", lower_limit_male, \", \", upper_limit_male, ')')\n"
   ]
  },
  {
   "cell_type": "code",
   "execution_count": 13,
   "metadata": {},
   "outputs": [
    {
     "name": "stdout",
     "output_type": "stream",
     "text": [
      "\n",
      "\n",
      "At 95% confidence level, we can say normal temperature for the females lie between the confidence interval:  \n",
      "( 98.21449403134109 ,  98.57319827635116 )\n"
     ]
    }
   ],
   "source": [
    "# Calculate the normal temperature for females\n",
    "sem_female = np.std(df_female.temperature)/np.sqrt(len(df_female.temperature)) # sem is std error of the sampling distribution of sample mean\n",
    "sample_mean_female = np.mean(df_female.temperature)\n",
    "\n",
    "# Critical value is 1.96 at confidence interval 95%\n",
    "critical_value = 1.96\n",
    "margin_of_error_female = critical_value * sem_female\n",
    "lower_limit_female = sample_mean_female - margin_of_error_female\n",
    "upper_limit_female = sample_mean_female + margin_of_error_female\n",
    "\n",
    "print('\\n')\n",
    "print(\"At 95% confidence level, we can say normal temperature for the females lie between the confidence interval:  \\n(\", lower_limit_female, \", \", upper_limit_female, ')')\n"
   ]
  },
  {
   "cell_type": "markdown",
   "metadata": {},
   "source": [
    " We can perform Hypothesis test on two populations to test the difference between population means.\n",
    "This is a two tail tesr since we are testing whether there is difference between male sample mean and female sample mean.\n",
    "\n",
    "Null Hypothesis:      sample_mean_male = sample_mean_female\n",
    "\n",
    "Alternate Hypothesis: sample_mean_male != sample_mean_female    \n",
    "\n",
    "Level of significance = 0.05\n"
   ]
  },
  {
   "cell_type": "code",
   "execution_count": 21,
   "metadata": {},
   "outputs": [
    {
     "name": "stdout",
     "output_type": "stream",
     "text": [
      "The t-statistic:  0.0229\n"
     ]
    }
   ],
   "source": [
    "# Calculate t-statistic \n",
    "\n",
    "diff_in_mean = sample_mean_male - sample_mean_female\n",
    "female_var = np.var(df_female.temperature)\n",
    "male_var = np.var(df_male.temperature)\n",
    "\n",
    "std = np.sqrt(female_var/len(df_female) + male_var/len(df_male))\n",
    "\n",
    "t_stat = (diff_in_mean - 0)/std\n",
    "p_value = stats.t.sf(np.abs(t_stat), len(df_male)+len(df_female)-2)*2\n",
    "print(\"The p value: %7.4f\" % p_value )"
   ]
  },
  {
   "cell_type": "markdown",
   "metadata": {},
   "source": [
    "The p value, 0.0229 is less than significance level of 0.05, so the null hypothesis cannot be accepted. There is difference in mean temperature between males and females which can mean that either females or males have higher mean temperature. Females are known to have higher body temperature than males."
   ]
  },
  {
   "cell_type": "code",
   "execution_count": null,
   "metadata": {},
   "outputs": [],
   "source": []
  }
 ],
 "metadata": {
  "kernelspec": {
   "display_name": "Python 3",
   "language": "python",
   "name": "python3"
  },
  "language_info": {
   "codemirror_mode": {
    "name": "ipython",
    "version": 3
   },
   "file_extension": ".py",
   "mimetype": "text/x-python",
   "name": "python",
   "nbconvert_exporter": "python",
   "pygments_lexer": "ipython3",
   "version": "3.6.4"
  }
 },
 "nbformat": 4,
 "nbformat_minor": 1
}
